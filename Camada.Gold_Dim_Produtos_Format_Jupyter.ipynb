{
 "cells": [
  {
   "cell_type": "markdown",
   "metadata": {
    "application/vnd.databricks.v1+cell": {
     "cellMetadata": {
      "byteLimit": 2048000,
      "rowLimit": 10000
     },
     "inputWidgets": {},
     "nuid": "00f0c923-4f4d-42f5-890d-9751af902736",
     "showTitle": false,
     "tableResultSettingsMap": {},
     "title": ""
    }
   },
   "source": [
    "# 🚀 Projeto: Construção da Tabela Gold - Dimensão Produto\n",
    "\n",
    "## 📌 Visão Geral\n",
    "\n",
    "Este módulo representa a construção da **tabela de dimensão dim_produto** na camada **Gold** do projeto de Data Lakehouse. A tabela é derivada da Silver e foi desenhada para armazenar as informações relevantes dos produtos vendidos, com **altos padrões de qualidade de dados**, **otimização de leitura** e **governança**.\n",
    "\n",
    "---\n",
    "\n",
    "## 🎯 Objetivo\n",
    "\n",
    "Criar uma tabela dimensional que represente os produtos, garantindo:\n",
    "\n",
    "- 📦 Dados únicos e limpos de cada produto (ItemID)\n",
    "- ⚙️ Estrutura otimizada para consultas analíticas\n",
    "- 📈 Rastreabilidade com controle de criação (Created_at)\n",
    "- 🔄 Atualizações eficientes via **MERGE Delta**\n",
    "- 🚀 Alto desempenho com **Z-ORDER** e **reparticionamento estratégico**\n",
    "\n",
    "---\n",
    "\n",
    "## 📐 Detalhes Técnicos\n",
    "\n",
    "- **Fonte**: Camada Silver (tabela_prata_desnormalizadas)\n",
    "- **Destino**: Camada Gold (gold.dim_produto)\n",
    "- **Particionamento**: ItemID (100 partições)\n",
    "- **Chave de Negócio**: ItemID\n",
    "- **Colunas da Dimensão Produto**:\n",
    "  - ItemID (identificador do produto)\n",
    "  - ProductName (nome do produto)\n",
    "  - Created_at (timestamp de inserção na tabela Gold)\n",
    "\n",
    "---\n",
    "\n",
    "## ⚙️ Etapas do Pipeline\n",
    "\n",
    "1. **Leitura da Tabela Silver** com controle de partições.\n",
    "2. **Seleção das Colunas Relevantes**: apenas ItemID e ProductName.\n",
    "3. **Limpeza de Dados**: remoção de duplicatas e valores nulos.\n",
    "4. **Adição de Auditoria Temporal** com a coluna Created_at.\n",
    "5. **Cache dos Dados** para melhorar performance nas operações subsequentes.\n",
    "6. **Auditoria Inicial**: contagem dos produtos únicos existentes.\n",
    "7. **Aplicação do MERGE Delta**: inserção e atualização baseada em ItemID.\n",
    "8. **Auditoria Final**: nova contagem dos produtos únicos pós-processamento.\n",
    "9. **Otimização com Z-ORDER** por ItemID.\n",
    "10. **Limpeza com VACUUM** para liberação de espaço.\n",
    "11. **Registro no Catálogo Hive/Unity Catalog** para consultas SQL.\n",
    "\n",
    "---\n",
    "\n",
    "## ✅ Benefícios Técnicos Aplicados\n",
    "\n",
    "| Técnica                      | Finalidade                                                                |\n",
    "|----------------------------  | --------------------------------------------------------------------------|\n",
    "| MERGE Delta                | Evita duplicidade e garante atualizações incrementais                     |\n",
    "| Reparticionamento            | Aumenta performance de escrita/leitura por chave de negócio (ItemID)    |\n",
    "| dropDuplicates + na.drop | Garante consistência e integridade dos dados                              |\n",
    "| Z-ORDER                    | Melhora tempo de resposta nas consultas filtradas                         |\n",
    "| VACUUM                     | Reduz uso de armazenamento eliminando arquivos obsoletos                  |\n",
    "| Registro no catálogo         | Permite uso via SQL e dashboards com governança centralizada              |\n",
    "\n",
    "---\n",
    "\n",
    "## 🧱 Modelo Estrela (Star Schema)\n",
    "\n",
    "Esta tabela é utilizada como uma **Dimensão** em um **Esquema Estrela**, onde será relacionada à Tabela Fato de Vendas através da chave ItemID, permitindo análises como:\n",
    "\n",
    "- Total de vendas por produto\n",
    "- Produtos mais vendidos por período\n",
    "- Comparações de performance entre categorias\n",
    "\n",
    "---\n"
   ]
  },
  {
   "cell_type": "code",
   "execution_count": 0,
   "metadata": {
    "application/vnd.databricks.v1+cell": {
     "cellMetadata": {
      "byteLimit": 2048000,
      "rowLimit": 10000
     },
     "inputWidgets": {},
     "nuid": "eab0e4c2-11e7-417f-ac21-9d025cb47258",
     "showTitle": false,
     "tableResultSettingsMap": {},
     "title": ""
    }
   },
   "outputs": [
    {
     "output_type": "stream",
     "name": "stdout",
     "output_type": "stream",
     "text": [
      "Total de registros distintos antes do processamento (Gold Dim Produto): 29945\nDados adicionados com sucesso na tabela Gold Dim Produto.\nTotal de registros distintos após o processamento (Gold Dim Produto): 29945\nTabela Gold Dim Produto otimizada com Z-ORDER para melhorar a performance.\nVACUUM executado para liberar espaço de armazenamento.\nTabela Gold Dim Produto registrada no catálogo com sucesso.\n\nResumo das contagens distintas:\nTotal distinto antes do processamento (Gold Dim Produto): 29945\nTotal distinto após o processamento (Gold Dim Produto): 29945\n"
     ]
    }
   ],
   "source": [
    "from pyspark.sql.functions import col, current_timestamp\n",
    "from delta.tables import DeltaTable\n",
    "\n",
    "\n",
    "# 1. Definição dos caminhos das tabelas Delta na camada Silver e Gold\n",
    "# ------------------------------------------\n",
    "# Estes caminhos apontam para as localizações físicas no Data Lake onde os dados Delta são armazenados.\n",
    "# São usados para leitura, escrita e operações de manutenção da tabela de dimensão produto.\n",
    "SILVER_PATH = \"abfss://silver@dlsprojetofixo.dfs.core.windows.net/tabela_prata_desnormalizadas\"\n",
    "GOLD_DIM_PRODUCT_PATH = \"abfss://gold@dlsprojetofixo.dfs.core.windows.net/gold_dim_produto\"\n",
    "GOLD_DIM_PRODUCT_TABLE = \"gold.dim_produto\"\n",
    "\n",
    "# ------------------------------------------\n",
    "# 2. Verifica se o banco de dados 'gold' existe e cria caso não exista\n",
    "# ------------------------------------------\n",
    "# Criar o banco de dados 'gold' se não existir para garantir que a tabela seja registrada corretamente.\n",
    "spark.sql(\"CREATE DATABASE IF NOT EXISTS gold\")\n",
    "\n",
    "# ------------------------------------------\n",
    "# 3. Leitura dos dados da camada Silver (prata) no formato Delta\n",
    "# ------------------------------------------\n",
    "# Carrega os dados desnormalizados da camada intermediária Silver, que já passaram por tratamento inicial.\n",
    "silver_df = spark.read.format(\"delta\").load(SILVER_PATH)\n",
    "\n",
    "# ------------------------------------------\n",
    "# 4. Reparticionamento dos dados por 'ItemID' para balanceamento\n",
    "# ------------------------------------------\n",
    "# Reparticiona os dados para melhorar performance de escrita e leitura, especialmente em joins ou filtros por 'ItemID'.\n",
    "silver_df = silver_df.repartition(100, \"ItemID\")  # Ajustar a quantidade conforme o volume de dados\n",
    "\n",
    "# ------------------------------------------\n",
    "# 5. Seleção das colunas relevantes para a dimensão Produto\n",
    "# ------------------------------------------\n",
    "# Aqui extraímos apenas os campos necessários para a construção da dimensão: identificador e nome do produto.\n",
    "dim_product_df = silver_df.select(\"ItemID\", \"ProductName\")\n",
    "\n",
    "# ------------------------------------------\n",
    "# 6. Remoção de duplicatas e valores nulos\n",
    "# ------------------------------------------\n",
    "# Elimina duplicidades por 'ItemID' e descarta linhas com nomes de produtos nulos.\n",
    "dim_product_df = dim_product_df.dropDuplicates([\"ItemID\"])\n",
    "dim_product_df = dim_product_df.na.drop(subset=[\"ProductName\"])\n",
    "\n",
    "# ------------------------------------------\n",
    "# 7. Inclusão de coluna de auditoria 'Created_at'\n",
    "# ------------------------------------------\n",
    "# A coluna 'Created_at' registra a data/hora da carga, útil para rastreabilidade dos dados.\n",
    "dim_product_df = dim_product_df.withColumn(\"Created_at\", current_timestamp())\n",
    "\n",
    "# ------------------------------------------\n",
    "# 8. Cache do DataFrame para otimizar performance em múltiplas ações subsequentes\n",
    "# ------------------------------------------\n",
    "# Evita recomputações desnecessárias durante a execução do pipeline.\n",
    "dim_product_df.cache()\n",
    "\n",
    "# ------------------------------------------\n",
    "# 9. Auditoria: contagem de registros distintos antes do MERGE\n",
    "# ------------------------------------------\n",
    "# Carrega a versão atual da dimensão, caso exista, e conta o número de produtos distintos.\n",
    "dim_product_count_before = 0\n",
    "if DeltaTable.isDeltaTable(spark, GOLD_DIM_PRODUCT_PATH):\n",
    "    existing_dim_product_df = spark.read.format(\"delta\").load(GOLD_DIM_PRODUCT_PATH)\n",
    "    dim_product_count_before = existing_dim_product_df.select(\"ItemID\").distinct().count()\n",
    "\n",
    "print(f\"Total de registros distintos antes do processamento (Gold Dim Produto): {dim_product_count_before}\")\n",
    "\n",
    "# ------------------------------------------\n",
    "# 10. Habilita a atualização automática de schema no Delta Lake\n",
    "# ------------------------------------------\n",
    "# Permite que o Delta aceite novos campos durante a escrita sem erro de schema incompatível.\n",
    "spark.conf.set(\"spark.databricks.delta.schema.autoMerge.enabled\", \"true\")\n",
    "\n",
    "# ------------------------------------------\n",
    "# 11. MERGE ou criação da tabela Gold Dim Produto\n",
    "# ------------------------------------------\n",
    "# Se a tabela já existir, faz um MERGE para inserir/atualizar registros com base no 'ItemID'.\n",
    "# Caso contrário, cria a tabela do zero com os dados atuais.\n",
    "if DeltaTable.isDeltaTable(spark, GOLD_DIM_PRODUCT_PATH):\n",
    "    dim_product_table = DeltaTable.forPath(spark, GOLD_DIM_PRODUCT_PATH)\n",
    "\n",
    "    dim_product_table.alias(\"target\").merge(\n",
    "        dim_product_df.alias(\"source\"), \"target.ItemID = source.ItemID\"\n",
    "    ).whenMatchedUpdate(set={\n",
    "        \"ProductName\": col(\"source.ProductName\"),\n",
    "        \"Created_at\": col(\"source.Created_at\")\n",
    "    }).whenNotMatchedInsert(values={\n",
    "        \"ItemID\": col(\"source.ItemID\"),\n",
    "        \"ProductName\": col(\"source.ProductName\"),\n",
    "        \"Created_at\": col(\"source.Created_at\")\n",
    "    }).execute()\n",
    "\n",
    "    print(\"Dados adicionados com sucesso na tabela Gold Dim Produto.\")\n",
    "else:\n",
    "    dim_product_df.write.format(\"delta\").mode(\"append\").option(\"mergeSchema\", \"true\").save(GOLD_DIM_PRODUCT_PATH)\n",
    "    print(\"Tabela Gold Dim Produto criada com sucesso.\")\n",
    "\n",
    "# ------------------------------------------\n",
    "# 12. Auditoria: contagem de registros distintos após o MERGE\n",
    "# ------------------------------------------\n",
    "# Compara o total de registros distintos depois da carga para garantir a integridade e rastreabilidade.\n",
    "dim_product_count_after = spark.read.format(\"delta\").load(GOLD_DIM_PRODUCT_PATH).select(\"ItemID\").distinct().count()\n",
    "print(f\"Total de registros distintos após o processamento (Gold Dim Produto): {dim_product_count_after}\")\n",
    "\n",
    "# ------------------------------------------\n",
    "# 13. Otimização com Z-ORDER para consultas eficientes\n",
    "# ------------------------------------------\n",
    "# O Z-ORDER organiza fisicamente os dados para melhorar a performance de leitura por colunas consultadas frequentemente.\n",
    "spark.sql(f\"OPTIMIZE delta.`{GOLD_DIM_PRODUCT_PATH}` ZORDER BY (ItemID)\")\n",
    "print(\"Tabela Gold Dim Produto otimizada com Z-ORDER para melhorar a performance.\")\n",
    "\n",
    "# ------------------------------------------\n",
    "# 14. VACUUM para remoção de arquivos obsoletos\n",
    "# ------------------------------------------\n",
    "# Executa a limpeza de arquivos antigos não referenciados pela tabela nos últimos 7 dias (168 horas).\n",
    "# Libera espaço e mantém a eficiência do armazenamento.\n",
    "spark.sql(f\"VACUUM delta.`{GOLD_DIM_PRODUCT_PATH}` RETAIN 168 HOURS\")\n",
    "print(\"VACUUM executado para liberar espaço de armazenamento.\")\n",
    "\n",
    "# ------------------------------------------\n",
    "# 15. Registro da tabela no catálogo (Metastore) do Spark\n",
    "# ------------------------------------------\n",
    "# Permite que a tabela seja consultada via SQL, conectores de BI e outros sistemas que usam o catálogo.\n",
    "spark.sql(f\"\"\"\n",
    "CREATE TABLE IF NOT EXISTS {GOLD_DIM_PRODUCT_TABLE}\n",
    "USING DELTA\n",
    "LOCATION '{GOLD_DIM_PRODUCT_PATH}'\n",
    "\"\"\")\n",
    "print(\"Tabela Gold Dim Produto registrada no catálogo com sucesso.\")\n",
    "\n",
    "# ------------------------------------------\n",
    "# 16. Resumo final das contagens para auditoria\n",
    "# ------------------------------------------\n",
    "# Apresenta de forma clara o antes e depois da quantidade de produtos únicos processados.\n",
    "print(\"\\nResumo das contagens distintas:\")\n",
    "print(f\"Total distinto antes do processamento (Gold Dim Produto): {dim_product_count_before}\")\n",
    "print(f\"Total distinto após o processamento (Gold Dim Produto): {dim_product_count_after}\")\n"
   ]
  },
  {
   "cell_type": "code",
   "execution_count": 0,
   "metadata": {
    "application/vnd.databricks.v1+cell": {
     "cellMetadata": {
      "byteLimit": 2048000,
      "implicitDf": true,
      "rowLimit": 10000
     },
     "inputWidgets": {},
     "nuid": "e03e62d7-6a4c-431e-aea6-4328019d7c4a",
     "showTitle": false,
     "tableResultSettingsMap": {},
     "title": ""
    }
   },
   "outputs": [
    {
     "output_type": "display_data",
     "data": {
      "text/html": [
       "<style scoped>\n",
       "  .table-result-container {\n",
       "    max-height: 300px;\n",
       "    overflow: auto;\n",
       "  }\n",
       "  table, th, td {\n",
       "    border: 1px solid black;\n",
       "    border-collapse: collapse;\n",
       "  }\n",
       "  th, td {\n",
       "    padding: 5px;\n",
       "  }\n",
       "  th {\n",
       "    text-align: left;\n",
       "  }\n",
       "</style><div class='table-result-container'><table class='table-result'><thead style='background-color: white'><tr><th>ItemID</th><th>ProductName</th><th>Created_at</th></tr></thead><tbody><tr><td>0191a621-1663-465a-826c-872de1b756f1</td><td>Headphones</td><td>2025-04-22T02:36:09.232Z</td></tr><tr><td>01d9c3e2-6f2f-433e-8df0-90c3f3cb0851</td><td>Smartwatch</td><td>2025-04-22T02:36:09.232Z</td></tr><tr><td>020a1034-09ca-473b-a0f7-db3804659057</td><td>Tablet</td><td>2025-04-22T02:36:09.232Z</td></tr><tr><td>020c3d9a-5162-463d-a65f-7b3d61b88df9</td><td>External Hard Drive</td><td>2025-04-22T02:36:09.232Z</td></tr><tr><td>026b32c6-fbac-4a22-85de-ee4e6ac3fc8c</td><td>USB Cable</td><td>2025-04-22T02:36:09.232Z</td></tr><tr><td>02ed91fb-6890-4840-873d-ff6f7d31795a</td><td>Power Supply</td><td>2025-04-22T02:36:09.232Z</td></tr><tr><td>034d27d4-857e-4a0e-83b1-609a7e06c788</td><td>Scanner</td><td>2025-04-22T02:36:09.232Z</td></tr><tr><td>042f561d-78b4-4ab9-a40e-2e9bb25e8173</td><td>USB Cable</td><td>2025-04-22T02:36:09.232Z</td></tr><tr><td>04dff3d1-4b83-4631-897a-0ad73005107d</td><td>Webcam</td><td>2025-04-22T02:36:09.232Z</td></tr><tr><td>067395c3-5bfa-42fa-aeaf-2cafc9654b75</td><td>Mouse</td><td>2025-04-22T02:36:09.232Z</td></tr><tr><td>081f58ed-c51a-480f-b83c-a416aa3a768d</td><td>Smartphone</td><td>2025-04-22T02:36:09.232Z</td></tr><tr><td>09745769-d9e4-4e74-b922-44f8a9e6f08a</td><td>Tablet</td><td>2025-04-22T02:36:09.232Z</td></tr><tr><td>097d3910-777d-40b6-91f4-88e13ae6f628</td><td>Headphones</td><td>2025-04-22T02:36:09.232Z</td></tr><tr><td>097eddc4-c0f0-49e2-a688-dc3e72a30672</td><td>Monitor</td><td>2025-04-22T02:36:09.232Z</td></tr><tr><td>0b46d5d2-8947-4adf-84ae-fee2918f06fc</td><td>Scanner</td><td>2025-04-22T02:36:09.232Z</td></tr><tr><td>0c63908e-3d73-4044-beda-524d2581662d</td><td>Smartwatch</td><td>2025-04-22T02:36:09.232Z</td></tr><tr><td>0d3f08f2-0e66-48c7-993c-5dce5c270466</td><td>Desk Lamp</td><td>2025-04-22T02:36:09.232Z</td></tr><tr><td>0d93e3b0-5afd-4212-adab-8a4bbc7322e7</td><td>Smartphone</td><td>2025-04-22T02:36:09.232Z</td></tr><tr><td>0dc7489b-eea3-4776-99be-b4be1f771e92</td><td>USB Cable</td><td>2025-04-22T02:36:09.232Z</td></tr><tr><td>0e5bd6f1-b264-4545-8e67-90b56eee2daf</td><td>Tablet</td><td>2025-04-22T02:36:09.232Z</td></tr></tbody></table></div>"
      ]
     },
     "metadata": {
      "application/vnd.databricks.v1+output": {
       "addedWidgets": {},
       "aggData": [],
       "aggError": "",
       "aggOverflow": false,
       "aggSchema": [],
       "aggSeriesLimitReached": false,
       "aggType": "",
       "arguments": {},
       "columnCustomDisplayInfos": {},
       "data": [
        [
         "0191a621-1663-465a-826c-872de1b756f1",
         "Headphones",
         "2025-04-22T02:36:09.232Z"
        ],
        [
         "01d9c3e2-6f2f-433e-8df0-90c3f3cb0851",
         "Smartwatch",
         "2025-04-22T02:36:09.232Z"
        ],
        [
         "020a1034-09ca-473b-a0f7-db3804659057",
         "Tablet",
         "2025-04-22T02:36:09.232Z"
        ],
        [
         "020c3d9a-5162-463d-a65f-7b3d61b88df9",
         "External Hard Drive",
         "2025-04-22T02:36:09.232Z"
        ],
        [
         "026b32c6-fbac-4a22-85de-ee4e6ac3fc8c",
         "USB Cable",
         "2025-04-22T02:36:09.232Z"
        ],
        [
         "02ed91fb-6890-4840-873d-ff6f7d31795a",
         "Power Supply",
         "2025-04-22T02:36:09.232Z"
        ],
        [
         "034d27d4-857e-4a0e-83b1-609a7e06c788",
         "Scanner",
         "2025-04-22T02:36:09.232Z"
        ],
        [
         "042f561d-78b4-4ab9-a40e-2e9bb25e8173",
         "USB Cable",
         "2025-04-22T02:36:09.232Z"
        ],
        [
         "04dff3d1-4b83-4631-897a-0ad73005107d",
         "Webcam",
         "2025-04-22T02:36:09.232Z"
        ],
        [
         "067395c3-5bfa-42fa-aeaf-2cafc9654b75",
         "Mouse",
         "2025-04-22T02:36:09.232Z"
        ],
        [
         "081f58ed-c51a-480f-b83c-a416aa3a768d",
         "Smartphone",
         "2025-04-22T02:36:09.232Z"
        ],
        [
         "09745769-d9e4-4e74-b922-44f8a9e6f08a",
         "Tablet",
         "2025-04-22T02:36:09.232Z"
        ],
        [
         "097d3910-777d-40b6-91f4-88e13ae6f628",
         "Headphones",
         "2025-04-22T02:36:09.232Z"
        ],
        [
         "097eddc4-c0f0-49e2-a688-dc3e72a30672",
         "Monitor",
         "2025-04-22T02:36:09.232Z"
        ],
        [
         "0b46d5d2-8947-4adf-84ae-fee2918f06fc",
         "Scanner",
         "2025-04-22T02:36:09.232Z"
        ],
        [
         "0c63908e-3d73-4044-beda-524d2581662d",
         "Smartwatch",
         "2025-04-22T02:36:09.232Z"
        ],
        [
         "0d3f08f2-0e66-48c7-993c-5dce5c270466",
         "Desk Lamp",
         "2025-04-22T02:36:09.232Z"
        ],
        [
         "0d93e3b0-5afd-4212-adab-8a4bbc7322e7",
         "Smartphone",
         "2025-04-22T02:36:09.232Z"
        ],
        [
         "0dc7489b-eea3-4776-99be-b4be1f771e92",
         "USB Cable",
         "2025-04-22T02:36:09.232Z"
        ],
        [
         "0e5bd6f1-b264-4545-8e67-90b56eee2daf",
         "Tablet",
         "2025-04-22T02:36:09.232Z"
        ]
       ],
       "datasetInfos": [],
       "dbfsResultPath": null,
       "isJsonSchema": true,
       "metadata": {
        "createTempViewForImplicitDf": true,
        "dataframeName": "_sqldf",
        "executionCount": 5
       },
       "overflow": false,
       "plotOptions": {
        "customPlotOptions": {},
        "displayType": "table",
        "pivotAggregation": null,
        "pivotColumns": null,
        "xColumns": null,
        "yColumns": null
       },
       "removedWidgets": [],
       "schema": [
        {
         "metadata": "{}",
         "name": "ItemID",
         "type": "\"string\""
        },
        {
         "metadata": "{}",
         "name": "ProductName",
         "type": "\"string\""
        },
        {
         "metadata": "{}",
         "name": "Created_at",
         "type": "\"timestamp\""
        }
       ],
       "type": "table"
      }
     },
     "output_type": "display_data"
    }
   ],
   "source": [
    "%sql\n",
    "SELECT * FROM gold.dim_produto LIMIT 20"
   ]
  },
  {
   "cell_type": "code",
   "execution_count": 0,
   "metadata": {
    "application/vnd.databricks.v1+cell": {
     "cellMetadata": {
      "byteLimit": 2048000,
      "rowLimit": 10000
     },
     "inputWidgets": {},
     "nuid": "b2fd01bd-f8a1-41d1-8bdd-fd5cdfbecc8f",
     "showTitle": false,
     "tableResultSettingsMap": {},
     "title": ""
    }
   },
   "outputs": [
    {
     "output_type": "stream",
     "name": "stdout",
     "output_type": "stream",
     "text": [
      "📌 Log da execução do job 'gold_dim_produto' registrado com sucesso.\n"
     ]
    }
   ],
   "source": [
    "# 📊 Monitoramento e Governança - Log de Execução do Pipeline Gold (Dimensão Produto)\n",
    "\n",
    "from pyspark.sql.types import StructType, StructField, StringType, IntegerType, DoubleType\n",
    "from datetime import datetime\n",
    "import time\n",
    "\n",
    "# ------------------------------------------\n",
    "# 1. Início da contagem do tempo de execução\n",
    "# ------------------------------------------\n",
    "start_time = time.time()\n",
    "\n",
    "# ------------------------------------------\n",
    "# 2. Parâmetros do log\n",
    "# ------------------------------------------\n",
    "job_name = \"gold_dim_produto\"\n",
    "status = \"SUCESSO\"\n",
    "erro = None\n",
    "\n",
    "try:\n",
    "    # Contagem de registros distintos no DataFrame final da Gold\n",
    "    qtd_linhas = dim_product_df.select(\"ItemID\").distinct().count()\n",
    "\n",
    "except Exception as e:\n",
    "    status = \"ERRO\"\n",
    "    erro = str(e)\n",
    "    qtd_linhas = 0\n",
    "\n",
    "# ------------------------------------------\n",
    "# 3. Cálculo do tempo total de execução (em segundos)\n",
    "# ------------------------------------------\n",
    "tempo_total = round(time.time() - start_time, 2)\n",
    "\n",
    "# ------------------------------------------\n",
    "# 4. Esquema explícito do log para evitar erro de inferência\n",
    "# ------------------------------------------\n",
    "schema_log = StructType([\n",
    "    StructField(\"job_name\", StringType(), True),\n",
    "    StructField(\"data_execucao\", StringType(), True),\n",
    "    StructField(\"qtd_linhas\", IntegerType(), True),\n",
    "    StructField(\"status\", StringType(), True),\n",
    "    StructField(\"erro\", StringType(), True),\n",
    "    StructField(\"tempo_total_segundos\", DoubleType(), True)\n",
    "])\n",
    "\n",
    "# ------------------------------------------\n",
    "# 5. Criação do DataFrame com os dados do log\n",
    "# ------------------------------------------\n",
    "log_execucao_df = spark.createDataFrame([(\n",
    "    job_name,\n",
    "    datetime.now().strftime(\"%Y-%m-%d %H:%M:%S\"),\n",
    "    qtd_linhas,\n",
    "    status,\n",
    "    erro,\n",
    "    tempo_total\n",
    ")], schema=schema_log)\n",
    "\n",
    "# ------------------------------------------\n",
    "# 6. Escrita do log no Delta Lake no container Gold\n",
    "# ------------------------------------------\n",
    "log_execucao_df.write.format(\"delta\") \\\n",
    "    .mode(\"append\") \\\n",
    "    .option(\"mergeSchema\", \"true\") \\\n",
    "    .save(\"abfss://gold@dlsprojetofixo.dfs.core.windows.net/log_execucoes_gold_dim_produto\")\n",
    "\n",
    "print(f\"📌 Log da execução do job '{job_name}' registrado com sucesso.\")\n"
   ]
  },
  {
   "cell_type": "code",
   "execution_count": 0,
   "metadata": {
    "application/vnd.databricks.v1+cell": {
     "cellMetadata": {
      "byteLimit": 2048000,
      "rowLimit": 10000
     },
     "inputWidgets": {},
     "nuid": "67ba224a-eec8-45a8-a268-06942c2b9b71",
     "showTitle": false,
     "tableResultSettingsMap": {},
     "title": ""
    }
   },
   "outputs": [
    {
     "output_type": "execute_result",
     "data": {
      "text/plain": [
       "DataFrame[]"
      ]
     },
     "execution_count": 7,
     "metadata": {},
     "output_type": "execute_result"
    }
   ],
   "source": [
    "spark.sql(\"\"\"\n",
    "    CREATE TABLE IF NOT EXISTS gold.log_execucoes_gold_dim_produto\n",
    "    USING DELTA\n",
    "    LOCATION 'abfss://gold@dlsprojetofixo.dfs.core.windows.net/log_execucoes_gold_dim_produto'\n",
    "\"\"\")"
   ]
  },
  {
   "cell_type": "code",
   "execution_count": 0,
   "metadata": {
    "application/vnd.databricks.v1+cell": {
     "cellMetadata": {
      "byteLimit": 2048000,
      "implicitDf": true,
      "rowLimit": 10000
     },
     "inputWidgets": {},
     "nuid": "9e1eff8d-63fc-48da-bcf9-1a0ab13ff076",
     "showTitle": false,
     "tableResultSettingsMap": {},
     "title": ""
    }
   },
   "outputs": [
    {
     "output_type": "display_data",
     "data": {
      "text/html": [
       "<style scoped>\n",
       "  .table-result-container {\n",
       "    max-height: 300px;\n",
       "    overflow: auto;\n",
       "  }\n",
       "  table, th, td {\n",
       "    border: 1px solid black;\n",
       "    border-collapse: collapse;\n",
       "  }\n",
       "  th, td {\n",
       "    padding: 5px;\n",
       "  }\n",
       "  th {\n",
       "    text-align: left;\n",
       "  }\n",
       "</style><div class='table-result-container'><table class='table-result'><thead style='background-color: white'><tr><th>job_name</th><th>data_execucao</th><th>qtd_linhas</th><th>status</th><th>erro</th><th>tempo_total_segundos</th></tr></thead><tbody><tr><td>gold_dim_produto</td><td>2025-04-22 02:33:51</td><td>0</td><td>ERRO</td><td>name 'dim_product_df' is not defined</td><td>0.0</td></tr><tr><td>gold_dim_produto</td><td>2025-04-22 02:38:07</td><td>29945</td><td>SUCESSO</td><td>null</td><td>6.46</td></tr></tbody></table></div>"
      ]
     },
     "metadata": {
      "application/vnd.databricks.v1+output": {
       "addedWidgets": {},
       "aggData": [],
       "aggError": "",
       "aggOverflow": false,
       "aggSchema": [],
       "aggSeriesLimitReached": false,
       "aggType": "",
       "arguments": {},
       "columnCustomDisplayInfos": {},
       "data": [
        [
         "gold_dim_produto",
         "2025-04-22 02:33:51",
         0,
         "ERRO",
         "name 'dim_product_df' is not defined",
         0.0
        ],
        [
         "gold_dim_produto",
         "2025-04-22 02:38:07",
         29945,
         "SUCESSO",
         null,
         6.46
        ]
       ],
       "datasetInfos": [],
       "dbfsResultPath": null,
       "isJsonSchema": true,
       "metadata": {
        "createTempViewForImplicitDf": true,
        "dataframeName": "_sqldf",
        "executionCount": 8
       },
       "overflow": false,
       "plotOptions": {
        "customPlotOptions": {},
        "displayType": "table",
        "pivotAggregation": null,
        "pivotColumns": null,
        "xColumns": null,
        "yColumns": null
       },
       "removedWidgets": [],
       "schema": [
        {
         "metadata": "{}",
         "name": "job_name",
         "type": "\"string\""
        },
        {
         "metadata": "{}",
         "name": "data_execucao",
         "type": "\"string\""
        },
        {
         "metadata": "{}",
         "name": "qtd_linhas",
         "type": "\"integer\""
        },
        {
         "metadata": "{}",
         "name": "status",
         "type": "\"string\""
        },
        {
         "metadata": "{}",
         "name": "erro",
         "type": "\"string\""
        },
        {
         "metadata": "{}",
         "name": "tempo_total_segundos",
         "type": "\"double\""
        }
       ],
       "type": "table"
      }
     },
     "output_type": "display_data"
    }
   ],
   "source": [
    "%sql\n",
    "SELECT * FROM gold.log_execucoes_gold_dim_produto"
   ]
  }
 ],
 "metadata": {
  "application/vnd.databricks.v1+notebook": {
   "computePreferences": null,
   "dashboards": [],
   "environmentMetadata": {
    "base_environment": "",
    "environment_version": "1"
   },
   "inputWidgetPreferences": null,
   "language": "python",
   "notebookMetadata": {
    "mostRecentlyExecutedCommandWithImplicitDF": {
     "commandId": 4348439708604001,
     "dataframes": [
      "_sqldf"
     ]
    },
    "pythonIndentUnit": 4
   },
   "notebookName": "Camada.Gold_Dim_Produtos_Upgrade",
   "widgets": {}
  }
 },
 "nbformat": 4,
 "nbformat_minor": 0
}
