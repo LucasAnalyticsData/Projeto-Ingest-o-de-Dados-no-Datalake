{
 "cells": [
  {
   "cell_type": "markdown",
   "metadata": {
    "application/vnd.databricks.v1+cell": {
     "cellMetadata": {},
     "inputWidgets": {},
     "nuid": "702e5c60-2a54-4ce5-94fb-e816ffe5f9e0",
     "showTitle": false,
     "tableResultSettingsMap": {},
     "title": ""
    }
   },
   "source": [
    "# 🪙 Camada Bronze - Ingestão e Explosão de Itens via Auto Loader\n",
    "\n",
    "## 📌 Objetivo\n",
    "\n",
    "Este pipeline tem como objetivo realizar a **ingestão incremental e automatizada de dados de vendas**, oriundos de arquivos Delta armazenados no Data Lake (**camada Bronze**), aplicando transformações com **explode de arrays**, enriquecimento com dados aninhados e gravação otimizada com particionamento por data. \n",
    "\n",
    "*A camada Bronze é responsável por armazenar os dados brutos exatamente como foram recebidos, sem transformações. Essa abordagem permite manter um histórico completo, garantindo rastreabilidade e possibilitando futuros reprocessamentos caso necessário.*\n",
    "\n",
    "É aplicado o Auto Loader para detecção contínua de arquivos, com escrita resiliente no Delta Lake e **registro condicional da tabela no catálogo**, garantindo um pipeline robusto, reutilizável e econômico em recursos.\n",
    "\n",
    "---\n",
    "\n",
    "## 📁 Estrutura de Pastas\n",
    "\n",
    "| Camada     | Localização                                                                 |\n",
    "|------------|------------------------------------------------------------------------------|\n",
    "| Bronze     | `abfss://bronze@dlsprojetofixo.dfs.core.windows.net/vendas_lucas`           |\n",
    "| Bronze Out | `abfss://bronze@dlsprojetofixo.dfs.core.windows.net/vendas_lucas_exploded`  |\n",
    "\n",
    "---\n",
    "\n",
    "## 🔍 Fonte de Dados\n",
    "\n",
    "- **vendas_lucas** — Arquivos Delta contendo pedidos com múltiplos itens e endereço aninhado (arrays e structs).\n",
    "\n",
    "---\n",
    "\n",
    "## 🛠️ Transformações Aplicadas\n",
    "\n",
    "- 🔁 **Explode de arrays**: transforma múltiplos itens por pedido em múltiplas linhas (`explode(Items)`)\n",
    "- 🔍 **Extração de nested fields**: extrai campos de structs como `ShippingAddress.City`, `Item.Price`, etc.\n",
    "- 🏷️ **Padronização de colunas**: com `alias()` para clareza semântica\n",
    "- 📅 **Particionamento por data**: organiza os arquivos por `OrderDate` para ganho de performance\n",
    "- ⛓️ **Registro dinâmico no catálogo**: cria a tabela automaticamente, caso ainda não esteja registrada\n",
    "\n",
    "---\n",
    "\n",
    "## ⚙️ Técnicas Avançadas Utilizadas\n",
    "\n",
    "| Técnica                         | Benefício                                                                 |\n",
    "|----------------------------------|--------------------------------------------------------------------------|\n",
    "| 🔄 `Auto Loader (cloudFiles)`    | Ingestão contínua com detecção de novos arquivos Delta                   |\n",
    "| 🎯 `explode()`                   | Permite granularidade por item, essencial para análises por produto      |\n",
    "| 🧊 `Delta Lake`                  | Tolerância a falhas, versionamento e performance com escrita ACID       |\n",
    "| 🧭 `checkpointLocation`          | Garante consistência e permite retomada segura em falhas                 |\n",
    "| 📊 `ZORDER BY`                   | Otimiza performance de leitura com filtros por `OrderID` e `CustomerID` |\n",
    "| 🔍 `Verificação condicional`     | Cria a tabela no catálogo apenas se ainda não existir                    |\n",
    "\n",
    "---\n",
    "\n",
    "## 🧪 Validação Final\n",
    "\n",
    "Após a escrita, o pipeline executa:\n",
    "\n",
    "- ✅ **Contagem total de registros gravados**\n",
    "- 🚀 **Otimização com `OPTIMIZE ZORDER`**\n",
    "- 📚 **Registro automático da tabela no metastore**\n",
    "\n",
    "---\n",
    "\n",
    "## 🔐 Governança e Reusabilidade\n",
    "\n",
    "- Tabela registrada no metastore (`bronze.vendas_lucas_exploded`)\n",
    "- Compatível com SQL, notebooks e visualizações\n",
    "- Código modular, reutilizável e com dependências explícitas\n",
    "\n",
    "---\n",
    "\n",
    "## 👨‍💻 Stack Utilizada\n",
    "\n",
    "- **Databricks** (Notebook)\n",
    "- **Apache Spark Structured Streaming**\n",
    "- **Delta Lake**\n",
    "- **Auto Loader**\n",
    "- **Azure Data Lake Storage Gen2 (ABFSS)**\n",
    "\n",
    "---\n",
    "\n",
    "## 📈 Resultados Esperados\n",
    "\n",
    "- 🚀 Alta performance com controle de schema evolutivo\n",
    "- ✅ Pipeline resiliente e idempotente\n",
    "- 🔄 Pronto para ser usado em um **workflow orquestrado** ou **job programado**\n",
    "\n",
    "---\n",
    "\n",
    "\n"
   ]
  },
  {
   "cell_type": "markdown",
   "metadata": {
    "application/vnd.databricks.v1+cell": {
     "cellMetadata": {
      "byteLimit": 2048000,
      "rowLimit": 10000
     },
     "inputWidgets": {},
     "nuid": "b61fc78e-5721-422b-b700-ecbd646ccf0a",
     "showTitle": false,
     "tableResultSettingsMap": {},
     "title": ""
    }
   },
   "source": [
    "| **Informações**    |            **Detalhes**         |\n",
    "|--------------------|---------------------------------|\n",
    "| Nome da Tabela     |          Camada Bronze          |\n",
    "| Data da Ingestao   |            31/03/2025           |\n",
    "| Ultima Atualizaçao |            31/03/2025           |\n",
    "| Origem             | Banco de Dados Azure - Patrick  |\n",
    "| Responsável        |           Lucas Sousa           |\n",
    "| Motivo             | Criação de Camadas Bronze       |\n",
    "| Observações        |               None              |"
   ]
  },
  {
   "cell_type": "markdown",
   "metadata": {
    "application/vnd.databricks.v1+cell": {
     "cellMetadata": {
      "byteLimit": 2048000,
      "rowLimit": 10000
     },
     "inputWidgets": {},
     "nuid": "3e8825a6-8dd0-4db8-80b1-a7a37612081e",
     "showTitle": false,
     "tableResultSettingsMap": {},
     "title": ""
    }
   },
   "source": [
    "##INGESTÃO EM FORMATO CSV - TABELA CLIENTES"
   ]
  },
  {
   "cell_type": "code",
   "execution_count": 0,
   "metadata": {
    "application/vnd.databricks.v1+cell": {
     "cellMetadata": {
      "byteLimit": 2048000,
      "rowLimit": 10000
     },
     "inputWidgets": {},
     "nuid": "0461aacc-43e2-47bb-a4a8-77c91cc98f67",
     "showTitle": false,
     "tableResultSettingsMap": {},
     "title": ""
    }
   },
   "outputs": [
    {
     "output_type": "stream",
     "name": "stdout",
     "output_type": "stream",
     "text": [
      "✅ Pipeline de ingestão de clientes concluído com sucesso na camada Bronze!\n"
     ]
    }
   ],
   "source": [
    "# 📦 Pipeline Bronze - Ingestão de Dados Clientes (Arquivo CSV)\n",
    "# 🧠 Objetivo: Realizar a ingestão eficiente, estruturada e confiável de dados de clientes para a camada Bronze\n",
    "\n",
    "from pyspark.sql.types import StructType, StructField, StringType, IntegerType, TimestampType\n",
    "from pyspark.sql.functions import current_timestamp, to_date\n",
    "\n",
    "# ------------------------------------------\n",
    "# ✅ Caminhos do pipeline (todos no container 'bronze' para padronização e rastreabilidade)\n",
    "# ------------------------------------------\n",
    "\n",
    "path_source = 'abfss://transient@dlsprojetofixo.dfs.core.windows.net/ecommerce_customers_500.csv'  # Fonte CSV\n",
    "path_target = 'abfss://bronze@dlsprojetofixo.dfs.core.windows.net/clientes_lucas'                   # Destino Delta Lake\n",
    "checkpoint_path = 'abfss://bronze@dlsprojetofixo.dfs.core.windows.net/clientes_lucas_checkpoint'   # Checkpoint streaming\n",
    "schema_location = 'abfss://bronze@dlsprojetofixo.dfs.core.windows.net/clientes_lucas_schema'       # Schema do Auto Loader\n",
    "\n",
    "# ------------------------------------------\n",
    "# ✅ Definição explícita do schema do CSV\n",
    "# ------------------------------------------\n",
    "\n",
    "schema = StructType([\n",
    "    StructField(\"CustomerID\", IntegerType(), True),\n",
    "    StructField(\"Name\", StringType(), True),\n",
    "    StructField(\"Email\", StringType(), True),\n",
    "    StructField(\"Phone\", StringType(), True),\n",
    "    StructField(\"Date_Time_Load\", TimestampType(), True)  # Será substituída pelo timestamp real de ingestão\n",
    "])\n",
    "\n",
    "# ------------------------------------------\n",
    "# ✅ Criação do banco de dados 'bronze' caso não exista\n",
    "# ------------------------------------------\n",
    "spark.sql(\"CREATE DATABASE IF NOT EXISTS bronze\")\n",
    "\n",
    "# ------------------------------------------\n",
    "# ✅ Leitura com Auto Loader (cloudFiles)\n",
    "# ------------------------------------------\n",
    "\n",
    "# Auto Loader permite leitura eficiente e incremental dos arquivos\n",
    "# - cloudFiles.format define o tipo (CSV)\n",
    "# - schemaLocation guarda o schema detectado, útil para schema evolution\n",
    "# - schema define os tipos esperados, evitando inferência automática\n",
    "\n",
    "raw_df = (\n",
    "    spark.readStream\n",
    "        .format(\"cloudFiles\")\n",
    "        .option(\"cloudFiles.format\", \"csv\")\n",
    "        .option(\"cloudFiles.schemaLocation\", schema_location)\n",
    "        .schema(schema)\n",
    "        .load(path_source)\n",
    ")\n",
    "\n",
    "# ------------------------------------------\n",
    "# ✅ Transformações nos dados\n",
    "# ------------------------------------------\n",
    "\n",
    "# Substitui Date_Time_Load pela data e hora de ingestão do Spark\n",
    "transformed_df = raw_df.withColumn(\"Date_Time_Load\", current_timestamp())\n",
    "\n",
    "# ✅ Limpeza básica de dados (essencial na Bronze)\n",
    "# - Remove duplicatas e registros nulos\n",
    "transformed_df = transformed_df.dropDuplicates().na.drop()\n",
    "\n",
    "# Cria coluna de particionamento com apenas a data (sem hora)\n",
    "transformed_df = transformed_df.withColumn(\"Data_Particao\", to_date(\"Date_Time_Load\"))\n",
    "\n",
    "# ------------------------------------------\n",
    "# ✅ Escrita dos dados em Delta Lake com boas práticas\n",
    "# ------------------------------------------\n",
    "\n",
    "# - checkpointLocation: permite reinício seguro do stream\n",
    "# - mergeSchema: aceita mudanças futuras de schema\n",
    "# - partitionBy: melhora a performance de leitura e filtragem\n",
    "# - trigger(once=True): executa o pipeline uma única vez (modo batch)\n",
    "\n",
    "(\n",
    "    transformed_df.writeStream\n",
    "        .format(\"delta\")\n",
    "        .outputMode(\"append\")\n",
    "        .option(\"checkpointLocation\", checkpoint_path)\n",
    "        .option(\"mergeSchema\", \"true\")\n",
    "        .partitionBy(\"Data_Particao\")\n",
    "        .trigger(once=True)\n",
    "        .option(\"path\", path_target)\n",
    "        .toTable(\"bronze.clientes\")\n",
    ")\n",
    "\n",
    "# Remove arquivos não referenciados com retenção de 7 dias\n",
    "spark.sql(\"VACUUM bronze.clientes RETAIN 168 HOURS\")\n",
    "\n",
    "\n",
    "# ✅ Log de sucesso no notebook\n",
    "print(\"✅ Pipeline de ingestão de clientes concluído com sucesso na camada Bronze!\")"
   ]
  },
  {
   "cell_type": "code",
   "execution_count": 0,
   "metadata": {
    "application/vnd.databricks.v1+cell": {
     "cellMetadata": {
      "byteLimit": 2048000,
      "implicitDf": true,
      "rowLimit": 10000
     },
     "inputWidgets": {},
     "nuid": "13a2b3c1-9c48-4ed0-8e4c-cb4072a81ed9",
     "showTitle": false,
     "tableResultSettingsMap": {},
     "title": ""
    }
   },
   "outputs": [
    {
     "output_type": "display_data",
     "data": {
      "text/html": [
       "<style scoped>\n",
       "  .table-result-container {\n",
       "    max-height: 300px;\n",
       "    overflow: auto;\n",
       "  }\n",
       "  table, th, td {\n",
       "    border: 1px solid black;\n",
       "    border-collapse: collapse;\n",
       "  }\n",
       "  th, td {\n",
       "    padding: 5px;\n",
       "  }\n",
       "  th {\n",
       "    text-align: left;\n",
       "  }\n",
       "</style><div class='table-result-container'><table class='table-result'><thead style='background-color: white'><tr><th>CustomerID</th><th>Name</th><th>PhoneNumber</th><th>Age</th><th>Date_Time_Load</th></tr></thead><tbody><tr><td>1</td><td>Peter Arroyo</td><td>+1-510-4943</td><td>35</td><td>2025-04-09T00:16:28.167Z</td></tr><tr><td>2</td><td>Noah Kramer</td><td>+1-322-2452</td><td>36</td><td>2025-04-09T00:16:28.167Z</td></tr><tr><td>3</td><td>Kirk Becker</td><td>+1-554-6529</td><td>69</td><td>2025-04-09T00:16:28.167Z</td></tr><tr><td>4</td><td>Jacqueline Gray</td><td>+1-700-4444</td><td>58</td><td>2025-04-09T00:16:28.167Z</td></tr><tr><td>5</td><td>Julie Hobbs</td><td>+1-157-9744</td><td>51</td><td>2025-04-09T00:16:28.167Z</td></tr><tr><td>6</td><td>Philip Thompson</td><td>+1-843-5051</td><td>47</td><td>2025-04-09T00:16:28.167Z</td></tr><tr><td>7</td><td>Lisa Becker</td><td>+1-381-5680</td><td>41</td><td>2025-04-09T00:16:28.167Z</td></tr><tr><td>8</td><td>Marie Moon</td><td>+1-917-7575</td><td>41</td><td>2025-04-09T00:16:28.167Z</td></tr><tr><td>9</td><td>Michael Johnson</td><td>+1-400-5224</td><td>48</td><td>2025-04-09T00:16:28.167Z</td></tr><tr><td>10</td><td>Victor Williams</td><td>+1-188-8635</td><td>70</td><td>2025-04-09T00:16:28.167Z</td></tr></tbody></table></div>"
      ]
     },
     "metadata": {
      "application/vnd.databricks.v1+output": {
       "addedWidgets": {},
       "aggData": [],
       "aggError": "",
       "aggOverflow": false,
       "aggSchema": [],
       "aggSeriesLimitReached": false,
       "aggType": "",
       "arguments": {},
       "columnCustomDisplayInfos": {},
       "data": [
        [
         "1",
         "Peter Arroyo",
         "+1-510-4943",
         "35",
         "2025-04-09T00:16:28.167Z"
        ],
        [
         "2",
         "Noah Kramer",
         "+1-322-2452",
         "36",
         "2025-04-09T00:16:28.167Z"
        ],
        [
         "3",
         "Kirk Becker",
         "+1-554-6529",
         "69",
         "2025-04-09T00:16:28.167Z"
        ],
        [
         "4",
         "Jacqueline Gray",
         "+1-700-4444",
         "58",
         "2025-04-09T00:16:28.167Z"
        ],
        [
         "5",
         "Julie Hobbs",
         "+1-157-9744",
         "51",
         "2025-04-09T00:16:28.167Z"
        ],
        [
         "6",
         "Philip Thompson",
         "+1-843-5051",
         "47",
         "2025-04-09T00:16:28.167Z"
        ],
        [
         "7",
         "Lisa Becker",
         "+1-381-5680",
         "41",
         "2025-04-09T00:16:28.167Z"
        ],
        [
         "8",
         "Marie Moon",
         "+1-917-7575",
         "41",
         "2025-04-09T00:16:28.167Z"
        ],
        [
         "9",
         "Michael Johnson",
         "+1-400-5224",
         "48",
         "2025-04-09T00:16:28.167Z"
        ],
        [
         "10",
         "Victor Williams",
         "+1-188-8635",
         "70",
         "2025-04-09T00:16:28.167Z"
        ]
       ],
       "datasetInfos": [],
       "dbfsResultPath": null,
       "isJsonSchema": true,
       "metadata": {
        "createTempViewForImplicitDf": true,
        "dataframeName": "_sqldf",
        "executionCount": 3
       },
       "overflow": false,
       "plotOptions": {
        "customPlotOptions": {},
        "displayType": "table",
        "pivotAggregation": null,
        "pivotColumns": null,
        "xColumns": null,
        "yColumns": null
       },
       "removedWidgets": [],
       "schema": [
        {
         "metadata": "{}",
         "name": "CustomerID",
         "type": "\"string\""
        },
        {
         "metadata": "{}",
         "name": "Name",
         "type": "\"string\""
        },
        {
         "metadata": "{}",
         "name": "PhoneNumber",
         "type": "\"string\""
        },
        {
         "metadata": "{}",
         "name": "Age",
         "type": "\"string\""
        },
        {
         "metadata": "{}",
         "name": "Date_Time_Load",
         "type": "\"timestamp\""
        }
       ],
       "type": "table"
      }
     },
     "output_type": "display_data"
    }
   ],
   "source": [
    "%sql select * from bronze.clientes LIMIT 10"
   ]
  },
  {
   "cell_type": "markdown",
   "metadata": {
    "application/vnd.databricks.v1+cell": {
     "cellMetadata": {},
     "inputWidgets": {},
     "nuid": "453e657e-ceca-41ce-9289-fc5a921d9fcf",
     "showTitle": false,
     "tableResultSettingsMap": {},
     "title": ""
    }
   },
   "source": [
    "## INGESTÃO EM FORMATO JSON - TABELA VENDAS"
   ]
  },
  {
   "cell_type": "code",
   "execution_count": 0,
   "metadata": {
    "application/vnd.databricks.v1+cell": {
     "cellMetadata": {
      "byteLimit": 2048000,
      "rowLimit": 10000
     },
     "inputWidgets": {},
     "nuid": "82cbeb9a-5667-47b0-b0ef-ab0f1f050910",
     "showTitle": false,
     "tableResultSettingsMap": {},
     "title": ""
    }
   },
   "outputs": [
    {
     "output_type": "stream",
     "name": "stdout",
     "output_type": "stream",
     "text": [
      "✅ Pipeline executado com sucesso na tabela bronze.vendas!\n"
     ]
    }
   ],
   "source": [
    "# 📦 Pipeline Bronze - Ingestão de Dados com Auto Loader (Delta Lake + JSON)\n",
    "# 🧠 Objetivo: Ingestão eficiente, econômica e resiliente de dados brutos em JSON para camada Bronze\n",
    "\n",
    "from pyspark.sql.functions import current_timestamp\n",
    "from pyspark.sql.types import StructType, StructField, StringType, IntegerType, DoubleType\n",
    "\n",
    "# ------------------------------------------\n",
    "# ✅ Caminhos do pipeline (todos no container 'bronze' para padronização e rastreabilidade)\n",
    "# ------------------------------------------\n",
    "path_source = 'abfss://bronze@dlsprojetofixo.dfs.core.windows.net/ecommerce_large.json'  # Origem dos arquivos JSON\n",
    "path_target = 'abfss://bronze@dlsprojetofixo.dfs.core.windows.net/vendas_lucas'          # Destino Delta Lake\n",
    "checkpoint_path = 'abfss://bronze@dlsprojetofixo.dfs.core.windows.net/_checkpoints/vendas_lucas'  # Estado da ingestão\n",
    "schema_path = 'abfss://bronze@dlsprojetofixo.dfs.core.windows.net/_schema/vendas_lucas'            # Metadados do schema inferido\n",
    "\n",
    "# ✅ Definição explícita do schema (evita erro de inferência se pasta estiver vazia)\n",
    "schema = StructType([\n",
    "    StructField(\"order_id\", StringType(), True),\n",
    "    StructField(\"customer_id\", StringType(), True),\n",
    "    StructField(\"product_id\", StringType(), True),\n",
    "    StructField(\"quantity\", IntegerType(), True),\n",
    "    StructField(\"price\", DoubleType(), True),\n",
    "    StructField(\"order_date\", StringType(), True)\n",
    "])\n",
    "\n",
    "# ✅ Leitura com Auto Loader (cloudFiles) e schema definido\n",
    "# - Monitoramento automático de novos arquivos\n",
    "# - Schema persistente para evolução segura\n",
    "# - Tolerante a falhas e ideal para ingestão contínua ou programada\n",
    "raw_df = (\n",
    "    spark.readStream\n",
    "        .format(\"cloudFiles\")\n",
    "        .option(\"cloudFiles.format\", \"json\")\n",
    "        .option(\"cloudFiles.schemaLocation\", schema_path)\n",
    "        .schema(schema)\n",
    "        .load(path_source)\n",
    ")\n",
    "\n",
    "# ✅ Limpeza básica de dados (essencial na Bronze)\n",
    "# - Remove duplicatas e registros nulos\n",
    "clean_df = raw_df.dropDuplicates().na.drop()\n",
    "\n",
    "# ✅ Enriquecimento com coluna de auditoria\n",
    "# - Marca o momento da ingestão dos dados\n",
    "bronze_df = clean_df.withColumn(\"data_carga\", current_timestamp())\n",
    "\n",
    "# ✅ Criação do banco de dados Bronze (se ainda não existir)\n",
    "spark.sql(\"CREATE DATABASE IF NOT EXISTS bronze\")\n",
    "\n",
    "# ✅ Escrita em Delta Lake com boas práticas\n",
    "# - checkpointLocation: permite reinício seguro em caso de falhas\n",
    "# - mergeSchema: aceita novas colunas automaticamente\n",
    "# - partitionBy: organiza fisicamente os arquivos por data da carga\n",
    "# - trigger(once=True): executa o pipeline uma vez e encerra (ideal para batch)\n",
    "(\n",
    "    bronze_df.writeStream\n",
    "        .format(\"delta\")\n",
    "        .option(\"checkpointLocation\", checkpoint_path)\n",
    "        .option(\"mergeSchema\", \"true\")\n",
    "        .partitionBy(\"data_carga\")\n",
    "        .trigger(once=True)\n",
    "        .outputMode(\"append\")\n",
    "        .option(\"path\", path_target)\n",
    "        .toTable(\"bronze.vendas\")\n",
    ")\n",
    "\n",
    "# Remove arquivos não referenciados com retenção de 7 dias\n",
    "spark.sql(\"VACUUM bronze.vendas RETAIN 168 HOURS\")\n",
    "\n",
    "\n",
    "# ✅ Log de sucesso\n",
    "print(\"✅ Pipeline executado com sucesso na tabela bronze.vendas!\")"
   ]
  },
  {
   "cell_type": "code",
   "execution_count": 0,
   "metadata": {
    "application/vnd.databricks.v1+cell": {
     "cellMetadata": {
      "byteLimit": 2048000,
      "implicitDf": true,
      "rowLimit": 10000
     },
     "inputWidgets": {},
     "nuid": "db72fe39-54df-42a4-b71e-86fe9c8e0a91",
     "showTitle": false,
     "tableResultSettingsMap": {},
     "title": ""
    }
   },
   "outputs": [
    {
     "output_type": "display_data",
     "data": {
      "text/html": [
       "<style scoped>\n",
       "  .table-result-container {\n",
       "    max-height: 300px;\n",
       "    overflow: auto;\n",
       "  }\n",
       "  table, th, td {\n",
       "    border: 1px solid black;\n",
       "    border-collapse: collapse;\n",
       "  }\n",
       "  th, td {\n",
       "    padding: 5px;\n",
       "  }\n",
       "  th {\n",
       "    text-align: left;\n",
       "  }\n",
       "</style><div class='table-result-container'><table class='table-result'><thead style='background-color: white'><tr><th>CustomerID</th><th>Items</th><th>OrderDate</th><th>OrderID</th><th>ShippingAddress</th><th>Status</th><th>TotalAmount</th><th>Date_Time_Load</th></tr></thead><tbody><tr><td>123</td><td>List(List(ef50354b-b782-4fcb-ad8d-81471c3ea7a4, 422.11, Keyboard, 1))</td><td>2024-02-08</td><td>1</td><td>List(Lake Matthewberg, Pakistan, 29350, WA, 629 Mercado Motorway Apt. 766)</td><td>Completed</td><td>36.79</td><td>2025-04-09T00:16:58.962Z</td></tr><tr><td>126</td><td>List(List(376bbc8e-ad01-44dc-8012-13c49020a44d, 37.53, Gaming Chair, 2))</td><td>2024-07-24</td><td>2</td><td>List(West Jeffrey, Brunei Darussalam, 39678, AK, 101 Ronald Roads)</td><td>Cancelled</td><td>603.69</td><td>2025-04-09T00:16:58.962Z</td></tr><tr><td>500</td><td>List(List(0f4940b5-3f26-4f33-bce0-404654c64594, 232.66, Router, 3), List(96e26e0e-6142-4339-8366-0acad6ae9f61, 27.71, Smartwatch, 3), List(a44e433a-19a2-4905-9c21-5f2402388dc4, 101.39, External Hard Drive, 2), List(e6ffb3e7-f8b7-4ca5-9e5a-0fd1f77b70b9, 222.25, Monitor, 1))</td><td>2024-01-27</td><td>3</td><td>List(Lake Mike, Saint Pierre and Miquelon, 17295, ME, 98322 Lisa Road)</td><td>Cancelled</td><td>306.05</td><td>2025-04-09T00:16:58.962Z</td></tr><tr><td>215</td><td>List(List(950b6c30-424c-4709-ace9-7b7de4797c45, 303.86, Gaming Chair, 1), List(78e306ee-993e-4442-a8b8-181865dde069, 139.28, Keyboard, 2), List(d8ff9a48-3d81-4747-bab9-862aef188f23, 132.5, Router, 3), List(77eb8f95-3713-4df0-bb17-f7f9d71511f7, 194.67, Laptop, 3), List(6c2d822b-2ab2-4a2d-b038-b06a7426804d, 160.01, Gaming Chair, 3))</td><td>2023-01-02</td><td>4</td><td>List(Wardborough, Qatar, 30418, CO, 52559 Garrett Roads)</td><td>Completed</td><td>142.48</td><td>2025-04-09T00:16:58.962Z</td></tr><tr><td>85</td><td>List(List(cbdab18c-86b4-4aad-b276-72994d0d808c, 153.66, Scanner, 1), List(f5f2df88-3558-4045-a6df-e097470edd32, 69.01, Smartwatch, 1))</td><td>2024-06-07</td><td>5</td><td>List(Scottfort, Botswana, 06962, OK, 6294 Cox Forges Suite 579)</td><td>Pending</td><td>260.02</td><td>2025-04-09T00:16:58.962Z</td></tr><tr><td>297</td><td>List(List(6836df29-15e0-46e1-b53d-63d57c75dc5e, 341.36, Power Supply, 3))</td><td>2023-11-16</td><td>6</td><td>List(North Davidshire, Saint Helena, 59379, SC, 73872 Ortiz Fields Suite 280)</td><td>Cancelled</td><td>551.39</td><td>2025-04-09T00:16:58.962Z</td></tr><tr><td>144</td><td>List(List(f5500e10-e547-41ee-b382-29fc426b1d0e, 439.84, Router, 1), List(01ca72d5-ca67-42f1-86a3-ccefa54a85b5, 229.2, Printer, 1), List(3370e320-855e-4131-b2c1-64f435c10708, 255.24, Webcam, 3))</td><td>2022-12-31</td><td>7</td><td>List(Andersonmouth, Iraq, 58727, VT, 2321 Ronald Cliff)</td><td>Pending</td><td>549.0</td><td>2025-04-09T00:16:58.962Z</td></tr><tr><td>223</td><td>List(List(1a9cad3e-1d8a-4cee-9e9e-37aa024ad178, 435.35, Monitor, 1), List(9b70a813-d4ca-42a9-9d69-7433d60af255, 485.35, Smartphone, 1), List(bdb24cec-29bd-4339-8118-6b2ea6d16baa, 11.09, Power Supply, 2), List(ac1adafe-106a-4ebb-b23e-14479cbc7ecc, 293.18, Smartphone, 2))</td><td>2023-10-20</td><td>8</td><td>List(North Melanie, Norfolk Island, 62596, SC, 188 Reyes Alley)</td><td>Completed</td><td>533.41</td><td>2025-04-09T00:16:58.962Z</td></tr><tr><td>420</td><td>List(List(0f6cfadf-bb5b-4ba3-94ae-ac8c0c5396f3, 245.35, Webcam, 1), List(d01e6a0a-7779-4f42-af0d-f91fe1493667, 295.57, Mouse, 2), List(9bb52eb2-2945-4f34-9c60-3616d99041d1, 416.37, Laptop, 3))</td><td>2023-05-05</td><td>9</td><td>List(West Mathew, Denmark, 04118, NM, 14607 Smith Hills Apt. 583)</td><td>Pending</td><td>561.69</td><td>2025-04-09T00:16:58.962Z</td></tr><tr><td>60</td><td>List(List(b8441ad2-cb50-4526-9ca0-58dc3add602d, 401.35, Power Supply, 2), List(b98753e7-3660-48cc-9042-a9f2b09f33a8, 91.16, Charger, 2), List(5c929555-2c72-4ba4-8675-982c934d328d, 172.52, Smartwatch, 3), List(2dfdeab4-2913-465f-aadc-7ddcb0fdab53, 428.85, Keyboard, 1), List(b90663bb-ccc8-42b9-b7a4-f15085e2275f, 107.87, USB Cable, 1))</td><td>2024-04-25</td><td>10</td><td>List(Smithtown, Seychelles, 39360, MO, 116 Reid Island)</td><td>Pending</td><td>781.29</td><td>2025-04-09T00:16:58.962Z</td></tr></tbody></table></div>"
      ]
     },
     "metadata": {
      "application/vnd.databricks.v1+output": {
       "addedWidgets": {},
       "aggData": [],
       "aggError": "",
       "aggOverflow": false,
       "aggSchema": [],
       "aggSeriesLimitReached": false,
       "aggType": "",
       "arguments": {},
       "columnCustomDisplayInfos": {},
       "data": [
        [
         123,
         [
          [
           "ef50354b-b782-4fcb-ad8d-81471c3ea7a4",
           422.11,
           "Keyboard",
           1
          ]
         ],
         "2024-02-08",
         1,
         [
          "Lake Matthewberg",
          "Pakistan",
          "29350",
          "WA",
          "629 Mercado Motorway Apt. 766"
         ],
         "Completed",
         36.79,
         "2025-04-09T00:16:58.962Z"
        ],
        [
         126,
         [
          [
           "376bbc8e-ad01-44dc-8012-13c49020a44d",
           37.53,
           "Gaming Chair",
           2
          ]
         ],
         "2024-07-24",
         2,
         [
          "West Jeffrey",
          "Brunei Darussalam",
          "39678",
          "AK",
          "101 Ronald Roads"
         ],
         "Cancelled",
         603.69,
         "2025-04-09T00:16:58.962Z"
        ],
        [
         500,
         [
          [
           "0f4940b5-3f26-4f33-bce0-404654c64594",
           232.66,
           "Router",
           3
          ],
          [
           "96e26e0e-6142-4339-8366-0acad6ae9f61",
           27.71,
           "Smartwatch",
           3
          ],
          [
           "a44e433a-19a2-4905-9c21-5f2402388dc4",
           101.39,
           "External Hard Drive",
           2
          ],
          [
           "e6ffb3e7-f8b7-4ca5-9e5a-0fd1f77b70b9",
           222.25,
           "Monitor",
           1
          ]
         ],
         "2024-01-27",
         3,
         [
          "Lake Mike",
          "Saint Pierre and Miquelon",
          "17295",
          "ME",
          "98322 Lisa Road"
         ],
         "Cancelled",
         306.05,
         "2025-04-09T00:16:58.962Z"
        ],
        [
         215,
         [
          [
           "950b6c30-424c-4709-ace9-7b7de4797c45",
           303.86,
           "Gaming Chair",
           1
          ],
          [
           "78e306ee-993e-4442-a8b8-181865dde069",
           139.28,
           "Keyboard",
           2
          ],
          [
           "d8ff9a48-3d81-4747-bab9-862aef188f23",
           132.5,
           "Router",
           3
          ],
          [
           "77eb8f95-3713-4df0-bb17-f7f9d71511f7",
           194.67,
           "Laptop",
           3
          ],
          [
           "6c2d822b-2ab2-4a2d-b038-b06a7426804d",
           160.01,
           "Gaming Chair",
           3
          ]
         ],
         "2023-01-02",
         4,
         [
          "Wardborough",
          "Qatar",
          "30418",
          "CO",
          "52559 Garrett Roads"
         ],
         "Completed",
         142.48,
         "2025-04-09T00:16:58.962Z"
        ],
        [
         85,
         [
          [
           "cbdab18c-86b4-4aad-b276-72994d0d808c",
           153.66,
           "Scanner",
           1
          ],
          [
           "f5f2df88-3558-4045-a6df-e097470edd32",
           69.01,
           "Smartwatch",
           1
          ]
         ],
         "2024-06-07",
         5,
         [
          "Scottfort",
          "Botswana",
          "06962",
          "OK",
          "6294 Cox Forges Suite 579"
         ],
         "Pending",
         260.02,
         "2025-04-09T00:16:58.962Z"
        ],
        [
         297,
         [
          [
           "6836df29-15e0-46e1-b53d-63d57c75dc5e",
           341.36,
           "Power Supply",
           3
          ]
         ],
         "2023-11-16",
         6,
         [
          "North Davidshire",
          "Saint Helena",
          "59379",
          "SC",
          "73872 Ortiz Fields Suite 280"
         ],
         "Cancelled",
         551.39,
         "2025-04-09T00:16:58.962Z"
        ],
        [
         144,
         [
          [
           "f5500e10-e547-41ee-b382-29fc426b1d0e",
           439.84,
           "Router",
           1
          ],
          [
           "01ca72d5-ca67-42f1-86a3-ccefa54a85b5",
           229.2,
           "Printer",
           1
          ],
          [
           "3370e320-855e-4131-b2c1-64f435c10708",
           255.24,
           "Webcam",
           3
          ]
         ],
         "2022-12-31",
         7,
         [
          "Andersonmouth",
          "Iraq",
          "58727",
          "VT",
          "2321 Ronald Cliff"
         ],
         "Pending",
         549.0,
         "2025-04-09T00:16:58.962Z"
        ],
        [
         223,
         [
          [
           "1a9cad3e-1d8a-4cee-9e9e-37aa024ad178",
           435.35,
           "Monitor",
           1
          ],
          [
           "9b70a813-d4ca-42a9-9d69-7433d60af255",
           485.35,
           "Smartphone",
           1
          ],
          [
           "bdb24cec-29bd-4339-8118-6b2ea6d16baa",
           11.09,
           "Power Supply",
           2
          ],
          [
           "ac1adafe-106a-4ebb-b23e-14479cbc7ecc",
           293.18,
           "Smartphone",
           2
          ]
         ],
         "2023-10-20",
         8,
         [
          "North Melanie",
          "Norfolk Island",
          "62596",
          "SC",
          "188 Reyes Alley"
         ],
         "Completed",
         533.41,
         "2025-04-09T00:16:58.962Z"
        ],
        [
         420,
         [
          [
           "0f6cfadf-bb5b-4ba3-94ae-ac8c0c5396f3",
           245.35,
           "Webcam",
           1
          ],
          [
           "d01e6a0a-7779-4f42-af0d-f91fe1493667",
           295.57,
           "Mouse",
           2
          ],
          [
           "9bb52eb2-2945-4f34-9c60-3616d99041d1",
           416.37,
           "Laptop",
           3
          ]
         ],
         "2023-05-05",
         9,
         [
          "West Mathew",
          "Denmark",
          "04118",
          "NM",
          "14607 Smith Hills Apt. 583"
         ],
         "Pending",
         561.69,
         "2025-04-09T00:16:58.962Z"
        ],
        [
         60,
         [
          [
           "b8441ad2-cb50-4526-9ca0-58dc3add602d",
           401.35,
           "Power Supply",
           2
          ],
          [
           "b98753e7-3660-48cc-9042-a9f2b09f33a8",
           91.16,
           "Charger",
           2
          ],
          [
           "5c929555-2c72-4ba4-8675-982c934d328d",
           172.52,
           "Smartwatch",
           3
          ],
          [
           "2dfdeab4-2913-465f-aadc-7ddcb0fdab53",
           428.85,
           "Keyboard",
           1
          ],
          [
           "b90663bb-ccc8-42b9-b7a4-f15085e2275f",
           107.87,
           "USB Cable",
           1
          ]
         ],
         "2024-04-25",
         10,
         [
          "Smithtown",
          "Seychelles",
          "39360",
          "MO",
          "116 Reid Island"
         ],
         "Pending",
         781.29,
         "2025-04-09T00:16:58.962Z"
        ]
       ],
       "datasetInfos": [],
       "dbfsResultPath": null,
       "isJsonSchema": true,
       "metadata": {
        "createTempViewForImplicitDf": true,
        "dataframeName": "_sqldf",
        "executionCount": 4
       },
       "overflow": false,
       "plotOptions": {
        "customPlotOptions": {},
        "displayType": "table",
        "pivotAggregation": null,
        "pivotColumns": null,
        "xColumns": null,
        "yColumns": null
       },
       "removedWidgets": [],
       "schema": [
        {
         "metadata": "{}",
         "name": "CustomerID",
         "type": "\"long\""
        },
        {
         "metadata": "{}",
         "name": "Items",
         "type": "{\"type\":\"array\",\"elementType\":{\"type\":\"struct\",\"fields\":[{\"name\":\"ItemID\",\"type\":\"string\",\"nullable\":true,\"metadata\":{}},{\"name\":\"Price\",\"type\":\"double\",\"nullable\":true,\"metadata\":{}},{\"name\":\"ProductName\",\"type\":\"string\",\"nullable\":true,\"metadata\":{}},{\"name\":\"Quantity\",\"type\":\"long\",\"nullable\":true,\"metadata\":{}}]},\"containsNull\":true}"
        },
        {
         "metadata": "{}",
         "name": "OrderDate",
         "type": "\"string\""
        },
        {
         "metadata": "{}",
         "name": "OrderID",
         "type": "\"long\""
        },
        {
         "metadata": "{}",
         "name": "ShippingAddress",
         "type": "{\"type\":\"struct\",\"fields\":[{\"name\":\"City\",\"type\":\"string\",\"nullable\":true,\"metadata\":{}},{\"name\":\"Country\",\"type\":\"string\",\"nullable\":true,\"metadata\":{}},{\"name\":\"PostalCode\",\"type\":\"string\",\"nullable\":true,\"metadata\":{}},{\"name\":\"State\",\"type\":\"string\",\"nullable\":true,\"metadata\":{}},{\"name\":\"Street\",\"type\":\"string\",\"nullable\":true,\"metadata\":{}}]}"
        },
        {
         "metadata": "{}",
         "name": "Status",
         "type": "\"string\""
        },
        {
         "metadata": "{}",
         "name": "TotalAmount",
         "type": "\"double\""
        },
        {
         "metadata": "{}",
         "name": "Date_Time_Load",
         "type": "\"timestamp\""
        }
       ],
       "type": "table"
      }
     },
     "output_type": "display_data"
    }
   ],
   "source": [
    "\n",
    "%sql select * from bronze.vendas LIMIT 10"
   ]
  },
  {
   "cell_type": "markdown",
   "metadata": {
    "application/vnd.databricks.v1+cell": {
     "cellMetadata": {},
     "inputWidgets": {},
     "nuid": "7ac251dc-c92f-46e1-b44a-6914528b4300",
     "showTitle": false,
     "tableResultSettingsMap": {},
     "title": ""
    }
   },
   "source": [
    "#FUNÇÃO **EXPLODE** ##\n",
    "Descompactar valores das colunas do tipo **ARRAY** conforme coluna **Items** e **ShippingAdress**  - Fonte Tabela (bronze.vendas)\n",
    "\n",
    "A função **Explode()** no Apache Spark é usada para desnormalizar dados estruturados, transformando arrays ou mapas em múltiplas linhas. Isso é útil para lidar com dados aninhados em formatos como JSON ou Parquet"
   ]
  },
  {
   "cell_type": "code",
   "execution_count": 0,
   "metadata": {
    "application/vnd.databricks.v1+cell": {
     "cellMetadata": {
      "byteLimit": 2048000,
      "rowLimit": 10000
     },
     "inputWidgets": {},
     "nuid": "0e263a2c-cc9f-46a0-8cfd-6422733eb812",
     "showTitle": false,
     "tableResultSettingsMap": {},
     "title": ""
    }
   },
   "outputs": [
    {
     "output_type": "stream",
     "name": "stdout",
     "output_type": "stream",
     "text": [
      "✅ Total de linhas após transformação e gravação: 29945\n✅ Pipeline finalizado com sucesso e tabela otimizada!\n"
     ]
    }
   ],
   "source": [
    "from pyspark.sql.functions import col, explode\n",
    "from pyspark.sql.types import StructType, StructField, StringType, DoubleType, IntegerType\n",
    "\n",
    "# ========================================\n",
    "# 1. CONFIGURAÇÕES INICIAIS E CAMINHOS\n",
    "# ========================================\n",
    "\n",
    "# Caminhos no Data Lake (container Bronze no ADLS Gen2)\n",
    "file_path = \"abfss://bronze@dlsprojetofixo.dfs.core.windows.net/vendas_lucas\"\n",
    "path_target = \"abfss://bronze@dlsprojetofixo.dfs.core.windows.net/vendas_lucas_exploded\"\n",
    "checkpoint_location = \"abfss://bronze@dlsprojetofixo.dfs.core.windows.net/_checkpoint/vendas_lucas_exploded\"\n",
    "\n",
    "# Nome do banco e tabela no catálogo Hive/Unity Catalog\n",
    "schema_name = \"bronze\"\n",
    "table_name = \"vendas_lucas_exploded\"\n",
    "\n",
    "# ========================================\n",
    "# 2. CONFIGURAÇÃO DOS SCHEMAS DE ESTRUTURAS ANINHADAS\n",
    "# ========================================\n",
    "\n",
    "# Define o schema para a estrutura aninhada \"Items\"\n",
    "items_schema = StructType([\n",
    "    StructField(\"ItemID\", StringType(), True),\n",
    "    StructField(\"Price\", DoubleType(), True),\n",
    "    StructField(\"ProductName\", StringType(), True),\n",
    "    StructField(\"Quantity\", IntegerType(), True)\n",
    "])\n",
    "\n",
    "# Define o schema para \"ShippingAddress\"\n",
    "shipping_address_schema = StructType([\n",
    "    StructField(\"City\", StringType(), True),\n",
    "    StructField(\"Country\", StringType(), True),\n",
    "    StructField(\"PostalCode\", StringType(), True),\n",
    "    StructField(\"State\", StringType(), True),\n",
    "    StructField(\"Street\", StringType(), True)\n",
    "])\n",
    "\n",
    "# ========================================\n",
    "# 3. LEITURA DOS DADOS COM AUTO LOADER\n",
    "# ========================================\n",
    "\n",
    "# Leitura incremental utilizando Auto Loader (cloudFiles)\n",
    "# Permite escalabilidade, economia de cluster e detecção automática de novos arquivos\n",
    "# Schema evolution e gerenciamento automático de arquivos\n",
    "\n",
    "df = spark.readStream.format(\"delta\") \\\n",
    "    .option(\"cloudFiles.format\", \"delta\") \\\n",
    "    .option(\"cloudFiles.schemaLocation\", \"/mnt/schemas/vendas_lucas\") \\\n",
    "    .load(file_path)\n",
    "\n",
    "# ========================================\n",
    "# 4. TRANSFORMAÇÃO DOS DADOS\n",
    "# ========================================\n",
    "\n",
    "# Realiza o explode na coluna de array \"Items\", transformando múltiplos itens em linhas distintas\n",
    "# Mantém as colunas principais do pedido e extrai campos internos do item e endereço\n",
    "\n",
    "df_exploded = df.withColumn(\"Item\", explode(col(\"Items\")))\n",
    "\n",
    "# Seleciona as colunas finais com renomeação clara para facilitar análise e governança\n",
    "final_df = df_exploded.select(\n",
    "    col(\"OrderDate\"),\n",
    "    col(\"OrderID\"),\n",
    "    col(\"CustomerID\"),\n",
    "    col(\"Status\"),\n",
    "    col(\"Item.ItemID\").alias(\"ItemID\"),\n",
    "    col(\"Item.ProductName\").alias(\"ProductName\"),\n",
    "    col(\"Item.Quantity\").alias(\"Quantity\"),\n",
    "    col(\"Item.Price\").alias(\"Price\"),\n",
    "    col(\"TotalAmount\"),\n",
    "    col(\"ShippingAddress.City\").alias(\"City\"),\n",
    "    col(\"ShippingAddress.Country\").alias(\"Country\"),\n",
    "    col(\"ShippingAddress.PostalCode\").alias(\"PostalCode\"),\n",
    "    col(\"ShippingAddress.State\").alias(\"State\"),\n",
    "    col(\"ShippingAddress.Street\").alias(\"Street\"),\n",
    "    col(\"Date_Time_Load\")\n",
    ")\n",
    "\n",
    "# ========================================\n",
    "# 5. ESCRITA DO STREAM COM DELTA LAKE\n",
    "# ========================================\n",
    "\n",
    "# Escrita do DataFrame em modo append utilizando Delta Lake\n",
    "# Checkpoint permite reinício seguro sem duplicação\n",
    "# PartitionBy em OrderDate melhora performance de leitura em queries temporais\n",
    "# Trigger once executa o stream como batch controlado, com menor custo e uso do cluster\n",
    "\n",
    "query = final_df.writeStream \\\n",
    "    .format(\"delta\") \\\n",
    "    .outputMode(\"append\") \\\n",
    "    .option(\"checkpointLocation\", checkpoint_location) \\\n",
    "    .option(\"mergeSchema\", \"true\") \\\n",
    "    .partitionBy(\"OrderDate\") \\\n",
    "    .trigger(once=True) \\\n",
    "    .start(path_target)\n",
    "\n",
    "# Aguarda o fim da execução do streaming (modo batch seguro)\n",
    "query.awaitTermination()\n",
    "\n",
    "# ========================================\n",
    "# 6. REGISTRO DA TABELA NO CATÁLOGO (CASO NÃO EXISTA)\n",
    "# ========================================\n",
    "\n",
    "# Criação do banco de dados no metastore se ainda não existir\n",
    "spark.sql(f\"CREATE DATABASE IF NOT EXISTS {schema_name}\")\n",
    "\n",
    "# Criação manual da tabela baseada nos arquivos já gravados, caso não esteja registrada\n",
    "if not spark._jsparkSession.catalog().tableExists(f\"{schema_name}.{table_name}\"):\n",
    "    spark.sql(f\"\"\"\n",
    "        CREATE TABLE {schema_name}.{table_name}\n",
    "        USING DELTA\n",
    "        LOCATION '{path_target}'\n",
    "    \"\"\")\n",
    "\n",
    "# ========================================\n",
    "# 7. PÓS-PROCESSAMENTO: CONTAGEM E OTIMIZAÇÃO\n",
    "# ========================================\n",
    "\n",
    "# Lê a tabela já gravada (modo batch) para análise posterior\n",
    "# Isso garante que estamos operando sobre dados estáveis após o stream\n",
    "\n",
    "df_final = spark.read.format(\"delta\").load(path_target)\n",
    "\n",
    "# Conta o número total de registros processados após o explode e escrita\n",
    "# Essa métrica é essencial para auditoria e validação do pipeline\n",
    "\n",
    "total_linhas = df_final.count()\n",
    "print(f\"✅ Total de linhas após transformação e gravação: {total_linhas}\")\n",
    "\n",
    "# ========================================\n",
    "# 8. OTIMIZAÇÃO E Z-ORDER\n",
    "# ========================================\n",
    "\n",
    "# Aplica técnica de otimização com Z-ORDER sobre colunas críticas\n",
    "# Essa estratégia reorganiza fisicamente os dados para acelerar consultas com filtros por OrderID e CustomerID\n",
    "# Ideal para reduzir tempo de leitura e custo de I/O em workloads analíticos complexos\n",
    "\n",
    "spark.sql(f\"\"\"\n",
    "    OPTIMIZE {schema_name}.{table_name}\n",
    "    ZORDER BY (OrderID, CustomerID)\n",
    "\"\"\")\n",
    "\n",
    "print(\"✅ Pipeline finalizado com sucesso e tabela otimizada!\")\n"
   ]
  },
  {
   "cell_type": "code",
   "execution_count": 0,
   "metadata": {
    "application/vnd.databricks.v1+cell": {
     "cellMetadata": {
      "byteLimit": 2048000,
      "implicitDf": true,
      "rowLimit": 10000
     },
     "inputWidgets": {},
     "nuid": "fa69ddb6-3683-4cc9-a845-d6e4612696bf",
     "showTitle": false,
     "tableResultSettingsMap": {},
     "title": ""
    }
   },
   "outputs": [
    {
     "output_type": "display_data",
     "data": {
      "text/html": [
       "<style scoped>\n",
       "  .table-result-container {\n",
       "    max-height: 300px;\n",
       "    overflow: auto;\n",
       "  }\n",
       "  table, th, td {\n",
       "    border: 1px solid black;\n",
       "    border-collapse: collapse;\n",
       "  }\n",
       "  th, td {\n",
       "    padding: 5px;\n",
       "  }\n",
       "  th {\n",
       "    text-align: left;\n",
       "  }\n",
       "</style><div class='table-result-container'><table class='table-result'><thead style='background-color: white'><tr><th>OrderDate</th><th>OrderID</th><th>CustomerID</th><th>Status</th><th>ItemID</th><th>ProductName</th><th>Quantity</th><th>Price</th><th>TotalAmount</th><th>City</th><th>Country</th><th>PostalCode</th><th>State</th><th>Street</th><th>Date_Time_Load</th></tr></thead><tbody><tr><td>2022-12-03</td><td>31</td><td>198</td><td>Cancelled</td><td>b5a7360a-a833-446a-9db2-697e83b335a9</td><td>Monitor</td><td>1</td><td>80.17</td><td>276.05</td><td>Ericstad</td><td>Romania</td><td>43407</td><td>IN</td><td>31942 Sanchez Grove</td><td>2025-04-09T00:16:58.962Z</td></tr><tr><td>2022-12-03</td><td>31</td><td>198</td><td>Cancelled</td><td>c5026804-4c82-4e16-8b47-d6d34ac17e83</td><td>Headphones</td><td>1</td><td>339.26</td><td>276.05</td><td>Ericstad</td><td>Romania</td><td>43407</td><td>IN</td><td>31942 Sanchez Grove</td><td>2025-04-09T00:16:58.962Z</td></tr><tr><td>2022-12-03</td><td>1052</td><td>311</td><td>Cancelled</td><td>732a8215-9e95-4617-8bae-0253584e141b</td><td>Scanner</td><td>1</td><td>345.94</td><td>776.54</td><td>West Michaelville</td><td>Mayotte</td><td>97677</td><td>CO</td><td>2621 Matthew Groves</td><td>2025-04-09T00:16:58.962Z</td></tr><tr><td>2022-12-03</td><td>1052</td><td>311</td><td>Cancelled</td><td>73b85fb9-1cf4-4b7f-b2d8-aebf20037bf1</td><td>Router</td><td>3</td><td>53.11</td><td>776.54</td><td>West Michaelville</td><td>Mayotte</td><td>97677</td><td>CO</td><td>2621 Matthew Groves</td><td>2025-04-09T00:16:58.962Z</td></tr><tr><td>2022-12-03</td><td>1052</td><td>311</td><td>Cancelled</td><td>a6f647a3-d5de-4122-b3cb-fe3da5d1022f</td><td>Gaming Chair</td><td>2</td><td>454.57</td><td>776.54</td><td>West Michaelville</td><td>Mayotte</td><td>97677</td><td>CO</td><td>2621 Matthew Groves</td><td>2025-04-09T00:16:58.962Z</td></tr><tr><td>2022-12-03</td><td>1052</td><td>311</td><td>Cancelled</td><td>5b345cf6-aef8-4341-be1e-465b48aa671f</td><td>Printer</td><td>2</td><td>470.79</td><td>776.54</td><td>West Michaelville</td><td>Mayotte</td><td>97677</td><td>CO</td><td>2621 Matthew Groves</td><td>2025-04-09T00:16:58.962Z</td></tr><tr><td>2022-12-03</td><td>1118</td><td>272</td><td>Completed</td><td>fcb2ec93-3fa5-4256-8300-9287597b81d3</td><td>Printer</td><td>2</td><td>433.37</td><td>215.35</td><td>Hendersonview</td><td>Syrian Arab Republic</td><td>99399</td><td>PA</td><td>53044 Sarah Spur</td><td>2025-04-09T00:16:58.962Z</td></tr><tr><td>2022-12-03</td><td>1118</td><td>272</td><td>Completed</td><td>3f42205e-5fc4-4c4a-b670-0f101a25e9a8</td><td>USB Cable</td><td>3</td><td>19.16</td><td>215.35</td><td>Hendersonview</td><td>Syrian Arab Republic</td><td>99399</td><td>PA</td><td>53044 Sarah Spur</td><td>2025-04-09T00:16:58.962Z</td></tr><tr><td>2022-12-03</td><td>1205</td><td>239</td><td>Pending</td><td>e9c8de14-8948-4635-a1dd-ce1bcaa33988</td><td>Tablet</td><td>3</td><td>171.27</td><td>717.73</td><td>North Nicholasbury</td><td>Sudan</td><td>52897</td><td>KS</td><td>54207 Warner Villages Apt. 371</td><td>2025-04-09T00:16:58.962Z</td></tr><tr><td>2022-12-03</td><td>1205</td><td>239</td><td>Pending</td><td>0e61542b-f7cb-4763-bc4d-862b990aa5f4</td><td>Scanner</td><td>2</td><td>81.4</td><td>717.73</td><td>North Nicholasbury</td><td>Sudan</td><td>52897</td><td>KS</td><td>54207 Warner Villages Apt. 371</td><td>2025-04-09T00:16:58.962Z</td></tr></tbody></table></div>"
      ]
     },
     "metadata": {
      "application/vnd.databricks.v1+output": {
       "addedWidgets": {},
       "aggData": [],
       "aggError": "",
       "aggOverflow": false,
       "aggSchema": [],
       "aggSeriesLimitReached": false,
       "aggType": "",
       "arguments": {},
       "columnCustomDisplayInfos": {},
       "data": [
        [
         "2022-12-03",
         31,
         198,
         "Cancelled",
         "b5a7360a-a833-446a-9db2-697e83b335a9",
         "Monitor",
         1,
         80.17,
         276.05,
         "Ericstad",
         "Romania",
         "43407",
         "IN",
         "31942 Sanchez Grove",
         "2025-04-09T00:16:58.962Z"
        ],
        [
         "2022-12-03",
         31,
         198,
         "Cancelled",
         "c5026804-4c82-4e16-8b47-d6d34ac17e83",
         "Headphones",
         1,
         339.26,
         276.05,
         "Ericstad",
         "Romania",
         "43407",
         "IN",
         "31942 Sanchez Grove",
         "2025-04-09T00:16:58.962Z"
        ],
        [
         "2022-12-03",
         1052,
         311,
         "Cancelled",
         "732a8215-9e95-4617-8bae-0253584e141b",
         "Scanner",
         1,
         345.94,
         776.54,
         "West Michaelville",
         "Mayotte",
         "97677",
         "CO",
         "2621 Matthew Groves",
         "2025-04-09T00:16:58.962Z"
        ],
        [
         "2022-12-03",
         1052,
         311,
         "Cancelled",
         "73b85fb9-1cf4-4b7f-b2d8-aebf20037bf1",
         "Router",
         3,
         53.11,
         776.54,
         "West Michaelville",
         "Mayotte",
         "97677",
         "CO",
         "2621 Matthew Groves",
         "2025-04-09T00:16:58.962Z"
        ],
        [
         "2022-12-03",
         1052,
         311,
         "Cancelled",
         "a6f647a3-d5de-4122-b3cb-fe3da5d1022f",
         "Gaming Chair",
         2,
         454.57,
         776.54,
         "West Michaelville",
         "Mayotte",
         "97677",
         "CO",
         "2621 Matthew Groves",
         "2025-04-09T00:16:58.962Z"
        ],
        [
         "2022-12-03",
         1052,
         311,
         "Cancelled",
         "5b345cf6-aef8-4341-be1e-465b48aa671f",
         "Printer",
         2,
         470.79,
         776.54,
         "West Michaelville",
         "Mayotte",
         "97677",
         "CO",
         "2621 Matthew Groves",
         "2025-04-09T00:16:58.962Z"
        ],
        [
         "2022-12-03",
         1118,
         272,
         "Completed",
         "fcb2ec93-3fa5-4256-8300-9287597b81d3",
         "Printer",
         2,
         433.37,
         215.35,
         "Hendersonview",
         "Syrian Arab Republic",
         "99399",
         "PA",
         "53044 Sarah Spur",
         "2025-04-09T00:16:58.962Z"
        ],
        [
         "2022-12-03",
         1118,
         272,
         "Completed",
         "3f42205e-5fc4-4c4a-b670-0f101a25e9a8",
         "USB Cable",
         3,
         19.16,
         215.35,
         "Hendersonview",
         "Syrian Arab Republic",
         "99399",
         "PA",
         "53044 Sarah Spur",
         "2025-04-09T00:16:58.962Z"
        ],
        [
         "2022-12-03",
         1205,
         239,
         "Pending",
         "e9c8de14-8948-4635-a1dd-ce1bcaa33988",
         "Tablet",
         3,
         171.27,
         717.73,
         "North Nicholasbury",
         "Sudan",
         "52897",
         "KS",
         "54207 Warner Villages Apt. 371",
         "2025-04-09T00:16:58.962Z"
        ],
        [
         "2022-12-03",
         1205,
         239,
         "Pending",
         "0e61542b-f7cb-4763-bc4d-862b990aa5f4",
         "Scanner",
         2,
         81.4,
         717.73,
         "North Nicholasbury",
         "Sudan",
         "52897",
         "KS",
         "54207 Warner Villages Apt. 371",
         "2025-04-09T00:16:58.962Z"
        ]
       ],
       "datasetInfos": [],
       "dbfsResultPath": null,
       "isJsonSchema": true,
       "metadata": {
        "createTempViewForImplicitDf": true,
        "dataframeName": "_sqldf",
        "executionCount": 9
       },
       "overflow": false,
       "plotOptions": {
        "customPlotOptions": {},
        "displayType": "table",
        "pivotAggregation": null,
        "pivotColumns": null,
        "xColumns": null,
        "yColumns": null
       },
       "removedWidgets": [],
       "schema": [
        {
         "metadata": "{}",
         "name": "OrderDate",
         "type": "\"string\""
        },
        {
         "metadata": "{}",
         "name": "OrderID",
         "type": "\"long\""
        },
        {
         "metadata": "{}",
         "name": "CustomerID",
         "type": "\"long\""
        },
        {
         "metadata": "{}",
         "name": "Status",
         "type": "\"string\""
        },
        {
         "metadata": "{}",
         "name": "ItemID",
         "type": "\"string\""
        },
        {
         "metadata": "{}",
         "name": "ProductName",
         "type": "\"string\""
        },
        {
         "metadata": "{}",
         "name": "Quantity",
         "type": "\"long\""
        },
        {
         "metadata": "{}",
         "name": "Price",
         "type": "\"double\""
        },
        {
         "metadata": "{}",
         "name": "TotalAmount",
         "type": "\"double\""
        },
        {
         "metadata": "{}",
         "name": "City",
         "type": "\"string\""
        },
        {
         "metadata": "{}",
         "name": "Country",
         "type": "\"string\""
        },
        {
         "metadata": "{}",
         "name": "PostalCode",
         "type": "\"string\""
        },
        {
         "metadata": "{}",
         "name": "State",
         "type": "\"string\""
        },
        {
         "metadata": "{}",
         "name": "Street",
         "type": "\"string\""
        },
        {
         "metadata": "{}",
         "name": "Date_Time_Load",
         "type": "\"timestamp\""
        }
       ],
       "type": "table"
      }
     },
     "output_type": "display_data"
    }
   ],
   "source": [
    "%sql select * from bronze.vendas_lucas_exploded LIMIT 10"
   ]
  }
 ],
 "metadata": {
  "application/vnd.databricks.v1+notebook": {
   "computePreferences": null,
   "dashboards": [],
   "environmentMetadata": {
    "base_environment": "",
    "environment_version": "1"
   },
   "inputWidgetPreferences": null,
   "language": "python",
   "notebookMetadata": {
    "mostRecentlyExecutedCommandWithImplicitDF": {
     "commandId": 2925494463586401,
     "dataframes": [
      "_sqldf"
     ]
    },
    "pythonIndentUnit": 4
   },
   "notebookName": "Camada.Bronze.Upgrade",
   "widgets": {}
  }
 },
 "nbformat": 4,
 "nbformat_minor": 0
}